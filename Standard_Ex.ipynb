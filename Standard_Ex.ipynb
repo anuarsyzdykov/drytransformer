{
 "cells": [
  {
   "cell_type": "code",
   "execution_count": 1,
   "metadata": {},
   "outputs": [],
   "source": [
    "import pandas\n",
    "import numpy\n",
    "import matplotlib.pyplot as plt\n",
    "from xlwt import Workbook\n",
    "import math\n",
    "import timeit\n",
    "from timeit import default_timer as timer\n",
    "start=timeit.timeit()\n",
    "df=pandas.read_excel('Ex3.xlsx', sheet_name='Sheet1', usecols=['Time', 'Loading', 'T Inside'])\n",
    "z=numpy.size(df['Time'])"
   ]
  },
  {
   "cell_type": "code",
   "execution_count": 2,
   "metadata": {},
   "outputs": [],
   "source": [
    "I_l1=[]\n",
    "j=0\n",
    "class Trans():\n",
    "    def __init__(self, therm_class, a, b, hot_spot,avg_wnd):\n",
    "        self.therm_class=therm_class\n",
    "        self.a=a\n",
    "        self.b=b\n",
    "        self.hot_spot=hot_spot\n",
    "        self.avg_wnd=avg_wnd\n",
    "    def show(self):\n",
    "        print(\"Thermal class:\", self.therm_class)\n",
    "        print(\"Arrhenius' constant a:\", self.a)\n",
    "        print(\"Arrhenius' constant b:\", self.b)\n",
    "        print(\"Rated hotspot winding temperature:\", self.hot_spot)\n",
    "        print(\"Average winding temperature rise:\", self.avg_wnd)"
   ]
  },
  {
   "cell_type": "code",
   "execution_count": 3,
   "metadata": {},
   "outputs": [
    {
     "name": "stdout",
     "output_type": "stream",
     "text": [
      "Enter insulation class (A,B,E,F,H,200 or 220):h\n"
     ]
    }
   ],
   "source": [
    "A=Trans(105, 3.10e-14, 15900, 130, 50)\n",
    "E=Trans(120, 5.48e-15, 17212, 145, 70)\n",
    "B=Trans(130, 1.72e-15, 18115, 155, 75)\n",
    "F=Trans(155, 9.60e-17, 20475, 180, 80)\n",
    "H=Trans(180, 5.350e-18, 22979, 205, 100)\n",
    "I_200=Trans(200, 5.31e-19, 25086, 225, 130)\n",
    "I_220=Trans(220, 6.26e-20, 27255, 245, 150)\n",
    "x=str(input(\"Enter insulation class (A,B,E,F,H,200 or 220):\"))\n",
    "if (x=='A' or x=='a'):\n",
    "    x=A\n",
    "    name='A'\n",
    "elif (x=='B' or x=='b'):\n",
    "    x=B\n",
    "    name='B'\n",
    "elif (x=='E' or x=='e'):\n",
    "    x=E\n",
    "    name='E'\n",
    "elif (x=='F' or x=='f'):\n",
    "    x=F\n",
    "    name='F'\n",
    "elif (x=='200'):\t\n",
    "    x=I_200\n",
    "    name='200'\n",
    "elif (x=='H' or x=='h'):\n",
    "    x=H\n",
    "    name='H'\n",
    "elif (x=='220'):\n",
    "    x=I_220\n",
    "    name='220'\n",
    "else:\n",
    "    x=0\n",
    "    print(\"Wrong insulation class entered!\")"
   ]
  },
  {
   "cell_type": "code",
   "execution_count": 4,
   "metadata": {},
   "outputs": [
    {
     "name": "stdout",
     "output_type": "stream",
     "text": [
      "Enter operation type (type 'AN' for 'air-natural' or 'AF' for 'air-forced'):an\n"
     ]
    }
   ],
   "source": [
    "def lifetime(x, t, temp, amb_t):\n",
    "    return 180000*t*pow(x.a, -1)*math.exp(-x.b/(temp+273+amb_t))\n",
    "\n",
    "Q=input(\"Enter operation type (type 'AN' for 'air-natural' or 'AF' for 'air-forced'):\")\n",
    "if(Q=='AN' or Q=='an'):\n",
    "    q=1.6\n",
    "else:\n",
    "    q=2.0\n",
    "tau_r=0.5#rated time constant\n",
    "z=1.25#constant\n",
    "def delta_theta_u(theta_i, theta_u, tau, t): #hot-spot temperature rise \n",
    "    return theta_i+(theta_u-theta_i)*(1-math.exp(-t/tau))\n",
    "def ageing_rate(x, temp, amb_t):\n",
    "    return 180000*pow(x.a, -1)*math.exp(-x.b/(temp+273+amb_t))"
   ]
  },
  {
   "cell_type": "code",
   "execution_count": 17,
   "metadata": {},
   "outputs": [],
   "source": [
    "y=numpy.size(df['Loading'])\n",
    "i=0\n",
    "I_u=[]\n",
    "theta_i=[]\n",
    "theta_u=[]\n",
    "tau=[]\n",
    "hot_spot_temp=[]\n",
    "age_rate=[]\n",
    "k=[]\n",
    "amb_t=[]\n",
    "d_time=1\n",
    "while y!=i:\n",
    "    amb_t.append(df.iloc[i]['T Inside'])\n",
    "    I_l1.append(df.iloc[i]['Loading'])\n",
    "    if i==0:\n",
    "        theta_i.append(0)\n",
    "        theta_u.append(z*x.avg_wnd*pow(I_l1[i], q))\n",
    "        tau.append('')\n",
    "        hot_spot_temp.append(theta_u[i])\n",
    "        age_rate.append(ageing_rate(x, hot_spot_temp[i], amb_t[i]))\n",
    "        I_u.append(I_l1[i])\n",
    "        k.append(1)\n",
    "        i=i+1\n",
    "    else:\n",
    "        I_i=I_l1[i-1]\n",
    "        I_u=I_l1[i]\n",
    "        if I_u==I_i:\n",
    "            theta_u.append(theta_u[i-1])\n",
    "            j=1\n",
    "            while I_u==I_l1[i-j]:\n",
    "                j=j+1\n",
    "            I_i=I_l1[i-j]\n",
    "            theta_i.append(z*x.avg_wnd*pow(float(I_i), q))\n",
    "            tau.append(tau_r*((theta_u[i]/theta_r)-(theta_i[i]/theta_r))/(pow(theta_u[i]/theta_r, z)-pow(theta_i[i]/theta_r, z)))\n",
    "            hot_spot_temp.append(delta_theta_u(theta_i[i], theta_u[i], tau[i], j*d_time))\n",
    "            age_rate.append(ageing_rate(x, hot_spot_temp[i], amb_t[i]))\n",
    "            if(i==y-1):\n",
    "                k.append(1)\n",
    "            elif(i%2==0):\n",
    "                k.append(2)\n",
    "            else:\n",
    "                k.append(4)\n",
    "            i=i+1\n",
    "            continue\n",
    "        else:\n",
    "\n",
    "            theta_i.append(z*x.avg_wnd*pow(float(I_i), q))\n",
    "            theta_u.append(z*x.avg_wnd*pow(float(I_u), q))\n",
    "            theta_r=z*x.avg_wnd\n",
    "            tau.append(tau_r*((theta_u[i]/theta_r)-(theta_i[i]/theta_r))/(pow(theta_u[i]/theta_r, z)-pow(theta_i[i]/theta_r, z)))\n",
    "\n",
    "\n",
    "            t_i=df.iloc[i-1]['Time']\n",
    "            t_f=df.iloc[i]['Time']\n",
    "            #d_time=abs(t_f.hour+t_f.minute/60+t_f.second/3600-(t_i.hour+t_i.minute/60+t_i.second/3600))\n",
    "            \n",
    "            hot_spot_temp.append(delta_theta_u(theta_i[i], theta_u[i], tau[i], d_time))\n",
    "            age_rate.append(ageing_rate(x, hot_spot_temp[i], amb_t[i]))\n",
    "            if(i==y-1):\n",
    "                k.append(1)\n",
    "            elif(i%2==0):\n",
    "                k.append(2)\n",
    "            else:\n",
    "                k.append(4)\n",
    "            i=i+1\n"
   ]
  },
  {
   "cell_type": "code",
   "execution_count": 18,
   "metadata": {},
   "outputs": [],
   "source": [
    "#Interface\n",
    "wb=Workbook()\n",
    "sheet1=wb.add_sheet('sheet1')\n",
    "sheet1.write(0, 0, 'Time') \n",
    "sheet1.write(0, 1, 'Loading') \n",
    "sheet1.write(0, 2, 'Ultimate Hot-Spot temperature rise') \n",
    "sheet1.write(0, 3, 'Time constant') \n",
    "sheet1.write(0, 4, 'Hot-spot temperature rise')\n",
    "sheet1.write(0, 5, 'Ageing rate')\n",
    "sheet1.write(0, 6, 'Life consumption')\n",
    "sheet1.write(0, 7, 'K')\n",
    "sheet1.write(0, 8, 'Kxfactor')\n",
    "sheet1.write(0, 9, 'Maximum permissible load')\n",
    "j=1\n",
    "sum=0\n",
    "for i in range(0, y):\n",
    "\t#print(i, theta_u[i], tau[i], hot_spot_temp[i], age_rate[i])\n",
    "\tsheet1.write(j,0,i)\n",
    "\tsheet1.write(j,1,I_l1[i])\n",
    "\tsheet1.write(j,2,theta_u[i])\n",
    "\tsheet1.write(j,3,tau[i])\n",
    "\tsheet1.write(j,4,hot_spot_temp[i])\n",
    "\tsheet1.write(j,5,age_rate[i])\n",
    "\tsheet1.write(j,6,d_time*age_rate[i])\n",
    "\tsheet1.write(j,7,k[i])\n",
    "\tsheet1.write(j,8,k[i]*d_time*age_rate[i])\n",
    "\tsheet1.write(j,9,pow((x.hot_spot-amb_t[i])/(z*x.avg_wnd),1/q))\n",
    "\tsum=sum+k[i]*age_rate[i]*d_time\n",
    "\tj=j+1\n",
    "\n",
    "wb.save('ResultsEx3.xls')"
   ]
  },
  {
   "cell_type": "code",
   "execution_count": 19,
   "metadata": {},
   "outputs": [
    {
     "name": "stdout",
     "output_type": "stream",
     "text": [
      "    Time  Loading  Ultimate Hot-Spot temperature rise  Time constant  \\\n",
      "0      0    0.700                           70.642633            NaN   \n",
      "1      1    0.722                           74.228303       0.458467   \n",
      "2      2    0.788                           85.379176       0.447557   \n",
      "3      3    0.859                           98.016474       0.432277   \n",
      "4      4    0.956                          116.316852       0.415788   \n",
      "5      5    0.957                          116.511586       0.407180   \n",
      "6      6    0.962                          117.487085       0.406670   \n",
      "7      7    0.991                          123.204866       0.403819   \n",
      "8      8    1.029                          130.850267       0.398405   \n",
      "9      9    1.044                          133.915489       0.394304   \n",
      "10    10    1.054                          135.973723       0.392418   \n",
      "11    11    1.080                          141.380014       0.389755   \n",
      "12    12    1.104                          146.440273       0.386161   \n",
      "13    13    1.152                          156.759540       0.381179   \n",
      "14    14    1.163                          159.161329       0.377269   \n",
      "15    15    1.200                          167.340093       0.374181   \n",
      "16    16    1.159                          158.286367       0.374434   \n",
      "17    17    1.109                          147.502876       0.380370   \n",
      "18    18    1.087                          142.849026       0.385316   \n",
      "19    19    0.982                          121.419487       0.394569   \n",
      "20    20    0.810                           89.224895       0.417808   \n",
      "21    21    0.751                           79.055832       0.441658   \n",
      "22    22    0.720                           73.899586       0.452292   \n",
      "23    23    0.719                           73.735433       0.456297   \n",
      "24    24    0.700                           70.642633       0.458855   \n",
      "\n",
      "    Hot-spot temperature rise  Ageing rate  Life consumption  K   Kxfactor  \\\n",
      "0                   70.642633     0.000066          0.000066  1   0.000066   \n",
      "1                   73.823452     0.000110          0.000110  4   0.000442   \n",
      "2                   84.185350     0.000565          0.000565  2   0.001130   \n",
      "3                   96.766251     0.003658          0.003658  4   0.014630   \n",
      "4                  114.665080     0.042954          0.042954  2   0.085909   \n",
      "5                  116.494881     0.054605          0.054605  4   0.218418   \n",
      "6                  117.403660     0.061469          0.061469  2   0.122938   \n",
      "7                  122.724291     0.121712          0.121712  4   0.486846   \n",
      "8                  130.228942     0.310028          0.310028  2   0.620056   \n",
      "9                  133.672804     0.471057          0.471057  4   1.884226   \n",
      "10                 135.812740     0.608868          0.608868  2   1.217736   \n",
      "11                 140.964464     1.117954          1.117954  4   4.471816   \n",
      "12                 146.060497     2.011475          2.011475  2   4.022950   \n",
      "13                 156.010849     6.099152          6.099152  4  24.396607   \n",
      "14                 158.991746     8.424662          8.424662  2  16.849325   \n",
      "15                 166.775110    19.206574         19.206574  4  76.826297   \n",
      "16                 158.912921     8.353457          8.353457  2  16.706915   \n",
      "17                 148.280896     2.587370          2.587370  4  10.349480   \n",
      "18                 143.196323     1.448307          1.448307  2   2.896614   \n",
      "19                 123.119031     0.127952          0.127952  4   0.511808   \n",
      "20                  92.164728     0.001873          0.001873  2   0.003746   \n",
      "21                  80.112535     0.000301          0.000301  4   0.001203   \n",
      "22                  74.464687     0.000123          0.000123  2   0.000245   \n",
      "23                  73.753776     0.000109          0.000109  4   0.000437   \n",
      "24                  70.992480     0.000070          0.000070  1   0.000070   \n",
      "\n",
      "    Maximum permissible load  \n",
      "0                   1.234042  \n",
      "1                   1.234042  \n",
      "2                   1.234042  \n",
      "3                   1.234042  \n",
      "4                   1.234042  \n",
      "5                   1.234042  \n",
      "6                   1.234042  \n",
      "7                   1.234042  \n",
      "8                   1.234042  \n",
      "9                   1.234042  \n",
      "10                  1.234042  \n",
      "11                  1.234042  \n",
      "12                  1.234042  \n",
      "13                  1.234042  \n",
      "14                  1.234042  \n",
      "15                  1.234042  \n",
      "16                  1.234042  \n",
      "17                  1.234042  \n",
      "18                  1.234042  \n",
      "19                  1.234042  \n",
      "20                  1.234042  \n",
      "21                  1.234042  \n",
      "22                  1.234042  \n",
      "23                  1.234042  \n",
      "24                  1.234042  \n"
     ]
    }
   ],
   "source": [
    "results=pandas.read_excel('ResultsEx3.xls', sheet_name='sheet1')\n",
    "print(results)"
   ]
  },
  {
   "cell_type": "code",
   "execution_count": 20,
   "metadata": {},
   "outputs": [
    {
     "name": "stdout",
     "output_type": "stream",
     "text": [
      "Lifetime consumed:53.89663595 hours\n",
      "Remained life:179946.10336405 hours\n"
     ]
    }
   ],
   "source": [
    "print(\"Lifetime consumed:\"+str(round(sum*2/6, 8))+\" hours\")\n",
    "print(\"Remained life:\"+str(180000-round(sum*2/6, 8))+\" hours\")"
   ]
  },
  {
   "cell_type": "code",
   "execution_count": 21,
   "metadata": {},
   "outputs": [],
   "source": [
    "#a load and a temperature influence on trasformer's aging rate\n",
    "graph=pandas.read_excel('ResultsEx3.xls', sheet_name='sheet1', usecols=['Time', 'Loading', 'Hot-spot temperature rise', 'Ageing rate'])"
   ]
  },
  {
   "cell_type": "code",
   "execution_count": 22,
   "metadata": {},
   "outputs": [
    {
     "data": {
      "image/png": "[encoded data removed]",
      "text/plain": [
       "<Figure size 432x288 with 1 Axes>"
      ]
     },
     "metadata": {
      "needs_background": "light"
     },
     "output_type": "display_data"
    }
   ],
   "source": [
    "plt.plot(graph['Time'], graph['Loading'])\n",
    "plt.xlabel('Time (h)')  \n",
    "plt.ylabel('loading p.u.')\n",
    "plt.scatter(graph['Time'], graph['Loading'],color=\"blue\")\n",
    "plt.grid(color='r', linestyle='--', linewidth=0.2)"
   ]
  },
  {
   "cell_type": "code",
   "execution_count": 23,
   "metadata": {},
   "outputs": [
    {
     "data": {
      "image/png": "[encoded data removed]",
      "text/plain": [
       "<Figure size 432x288 with 1 Axes>"
      ]
     },
     "metadata": {
      "needs_background": "light"
     },
     "output_type": "display_data"
    }
   ],
   "source": [
    "plt.plot(graph['Time'], graph['Hot-spot temperature rise'])\n",
    "plt.xlabel('Time (h)') \n",
    "plt.ylabel('Temperature rise (K)')\n",
    "plt.scatter(graph['Time'], graph['Hot-spot temperature rise'],color=\"blue\")\n",
    "plt.grid(color='r', linestyle='--', linewidth=0.2)"
   ]
  },
  {
   "cell_type": "code",
   "execution_count": 24,
   "metadata": {},
   "outputs": [
    {
     "data": {
      "text/plain": [
       "Text(0, 0.5, 'Temperature rise (K)')"
      ]
     },
     "execution_count": 24,
     "metadata": {},
     "output_type": "execute_result"
    },
    {
     "data": {
      "image/png": "[encoded data removed]",
      "text/plain": [
       "<Figure size 432x288 with 2 Axes>"
      ]
     },
     "metadata": {
      "needs_background": "light"
     },
     "output_type": "display_data"
    }
   ],
   "source": [
    "fig, ax1 = plt.subplots()\n",
    "x1=graph['Time']\n",
    "y1=graph['Loading']\n",
    "y2=graph['Hot-spot temperature rise']\n",
    "ax2 = ax1.twinx()\n",
    "ax1.plot(x1, y1, 'g-', label=\"loading\")\n",
    "plt.grid(color='r', linestyle='--', linewidth=0.2)\n",
    "ax2.plot(x1, y2, 'r-', label=\"temperature\")\n",
    "\n",
    "ax1.set_xlabel('time (h)')\n",
    "ax1.set_ylabel('Loading (p.u.)', color='g')\n",
    "ax2.set_ylabel('Temperature rise (K)', color='r')\n",
    "#ax1.scatter(x1, y1,color=\"blue\")\n"
   ]
  },
  {
   "cell_type": "code",
   "execution_count": 25,
   "metadata": {},
   "outputs": [
    {
     "data": {
      "image/png": "[encoded data removed]",
      "text/plain": [
       "<Figure size 432x288 with 1 Axes>"
      ]
     },
     "metadata": {
      "needs_background": "light"
     },
     "output_type": "display_data"
    }
   ],
   "source": [
    "plt.plot(graph['Time'], graph['Ageing rate'])\n",
    "plt.xlabel('Time (h)') \n",
    "plt.ylabel('Aging rate (h/h)')\n",
    "plt.scatter(graph['Time'], graph['Ageing rate'],color=\"blue\")\n",
    "plt.grid(color='r', linestyle='--', linewidth=0.2)"
   ]
  },
  {
   "cell_type": "code",
   "execution_count": 26,
   "metadata": {},
   "outputs": [],
   "source": [
    "#calculation of harmonics\n",
    "hr=pandas.read_excel('Harmonics.xlsx', sheet_name='Sheet1', usecols=['h','Ih'])\n",
    "i=0\n",
    "Ih=[]\n",
    "size=numpy.size(hr['h'])\n",
    "h=[]\n",
    "while size!=i:\n",
    "    Ih.append(hr.iloc[i]['Ih'])\n",
    "    h.append(hr.iloc[i]['h'])\n",
    "    i=i+1\n",
    "j=0\n",
    "I=0\n",
    "while size!=j:\n",
    "    I=I+pow(Ih[j], 2)\n",
    "    j=j+1\n",
    "Ih_I=Ih/pow(I, 1/2)"
   ]
  },
  {
   "cell_type": "code",
   "execution_count": 27,
   "metadata": {},
   "outputs": [
    {
     "name": "stdout",
     "output_type": "stream",
     "text": [
      "FHL=4.591728911409384\n"
     ]
    }
   ],
   "source": [
    "i=0\n",
    "sum1=0\n",
    "sum2=0\n",
    "while size!=i:\n",
    "    sum1=sum1+pow(Ih_I[i], 2)*pow(h[i], 2)\n",
    "    sum2=sum2+pow(Ih_I[i], 2)\n",
    "    i=i+1\n",
    "Fhl=sum1/sum2\n",
    "print(\"FHL=\"+str(Fhl))"
   ]
  },
  {
   "cell_type": "code",
   "execution_count": 28,
   "metadata": {},
   "outputs": [
    {
     "name": "stdout",
     "output_type": "stream",
     "text": [
      "Imax(pu)=0.8497713145870109\n"
     ]
    }
   ],
   "source": [
    "eddy=0.12\n",
    "I_max_pu=pow((1+eddy)/(1+Fhl*eddy), 1/2)\n",
    "print(\"Imax(pu)=\"+str(I_max_pu))"
   ]
  },
  {
   "cell_type": "code",
   "execution_count": null,
   "metadata": {},
   "outputs": [],
   "source": []
  }
 ],
 "metadata": {
  "kernelspec": {
   "display_name": "Python 3",
   "language": "python",
   "name": "python3"
  },
  "language_info": {
   "codemirror_mode": {
    "name": "ipython",
    "version": 3
   },
   "file_extension": ".py",
   "mimetype": "text/x-python",
   "name": "python",
   "nbconvert_exporter": "python",
   "pygments_lexer": "ipython3",
   "version": "3.7.4"
  }
 },
 "nbformat": 4,
 "nbformat_minor": 2
}
