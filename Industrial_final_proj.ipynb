{
 "cells": [
  {
   "cell_type": "code",
   "execution_count": 28,
   "metadata": {},
   "outputs": [],
   "source": [
    "import pandas\n",
    "import numpy\n",
    "import matplotlib.pyplot as plt\n",
    "from xlwt import Workbook\n",
    "import math\n",
    "import timeit\n",
    "from timeit import default_timer as timer\n",
    "start=timeit.timeit()\n",
    "df = pandas.read_excel('Data.xlsx', sheet_name='Sheet1', usecols=['Time', 'T Inside', 'I_L1 [A]', 'I_L2 [A]', 'I_L3 [A]'])\n",
    "load='I_L1 [A]'\n",
    "z=numpy.size(df[load])"
   ]
  },
  {
   "cell_type": "code",
   "execution_count": 29,
   "metadata": {},
   "outputs": [],
   "source": [
    "j=0\n",
    "class Trans():\n",
    "    def __init__(self, therm_class, a, b, hot_spot,avg_wnd):\n",
    "        self.therm_class=therm_class\n",
    "        self.a=a\n",
    "        self.b=b\n",
    "        self.hot_spot=hot_spot\n",
    "        self.avg_wnd=avg_wnd\n",
    "    def show(self):\n",
    "        print(\"Thermal class:\", self.therm_class)\n",
    "        print(\"Arrhenius' constant a:\", self.a)\n",
    "        print(\"Arrhenius' constant b:\", self.b)\n",
    "        print(\"Rated hotspot winding temperature:\", self.hot_spot)\n",
    "        print(\"Average winding temperature rise:\", self.avg_wnd)"
   ]
  },
  {
   "cell_type": "code",
   "execution_count": 30,
   "metadata": {},
   "outputs": [
    {
     "name": "stdout",
     "output_type": "stream",
     "text": [
      "Enter insulation class (A,B,E,F,H,200 or 220):f\n"
     ]
    }
   ],
   "source": [
    "A=Trans(105, 3.10e-14, 15900, 130, 50)\n",
    "E=Trans(120, 5.48e-15, 17212, 145, 70)\n",
    "B=Trans(130, 1.72e-15, 18115, 155, 75)\n",
    "F=Trans(155, 9.60e-17, 20475, 180, 80)\n",
    "H=Trans(180, 5.350e-18, 22979, 205, 100)\n",
    "I_200=Trans(200, 5.31e-19, 25086, 225, 130)\n",
    "I_220=Trans(220, 6.26e-20, 27255, 245, 150)\n",
    "x=str(input(\"Enter insulation class (A,B,E,F,H,200 or 220):\"))\n",
    "if (x=='A' or x=='a'):\n",
    "    x=A\n",
    "    name='A'\n",
    "elif (x=='B' or x=='b'):\n",
    "    x=B\n",
    "    name='B'\n",
    "elif (x=='E' or x=='e'):\n",
    "    x=E\n",
    "    name='E'\n",
    "elif (x=='F' or x=='f'):\n",
    "    x=F\n",
    "    name='F'\n",
    "elif (x=='200'):\t\n",
    "    x=I_200\n",
    "    name='200'\n",
    "elif (x=='H' or x=='h'):\n",
    "    x=H\n",
    "    name='H'\n",
    "elif (x=='220'):\n",
    "    x=I_220\n",
    "    name='220'\n",
    "else:\n",
    "    x=0\n",
    "    print(\"Wrong insulation class entered!\")"
   ]
  },
  {
   "cell_type": "code",
   "execution_count": 31,
   "metadata": {},
   "outputs": [
    {
     "name": "stdout",
     "output_type": "stream",
     "text": [
      "Enter operation type (type 'AN' for 'air-natural' or 'AF' for 'air-forced'):an\n"
     ]
    }
   ],
   "source": [
    "def lifetime(x, t, temp, amb_t):\n",
    "    return 180000*t*pow(x.a, -1)*math.exp(-x.b/(temp+273+amb_t))\n",
    "\n",
    "Q=input(\"Enter operation type (type 'AN' for 'air-natural' or 'AF' for 'air-forced'):\")\n",
    "if(Q=='AN' or Q=='an'):\n",
    "    q=1.6\n",
    "else:\n",
    "    q=2.0\n",
    "tau_r=0.5#rated time constant\n",
    "z=1.25#constant\n",
    "\n",
    "def delta_theta_u(theta_i, theta_u, tau, t): #hot-spot temperature rise \n",
    "    return theta_i+(theta_u-theta_i)*(1-math.exp(-t/tau))\n",
    "def ageing_rate(x, temp, amb_t):\n",
    "    return 180000*pow(x.a, -1)*math.exp(-x.b/(temp+273+amb_t))"
   ]
  },
  {
   "cell_type": "code",
   "execution_count": 32,
   "metadata": {},
   "outputs": [
    {
     "name": "stdout",
     "output_type": "stream",
     "text": [
      "Enter transformer ratings\n",
      "S (kVA):1000\n",
      "V (V):420\n",
      "Iline=793.6507936507936A\n"
     ]
    }
   ],
   "source": [
    "#Calculate per unit loading\n",
    "def pu_loading(S,V):\n",
    "    return S*1000/(3*V)\n",
    "S=float(input(\"Enter transformer ratings\\nS (kVA):\"))\n",
    "V=int(input(\"V (V):\"))\n",
    "I_l=float(pu_loading(S, V))\n",
    "print(\"Iline=\"+str(I_l)+\"A\")"
   ]
  },
  {
   "cell_type": "code",
   "execution_count": 33,
   "metadata": {},
   "outputs": [
    {
     "name": "stdout",
     "output_type": "stream",
     "text": [
      "Specify time interval between samples (in min):10\n"
     ]
    }
   ],
   "source": [
    "d_time=int(input(\"Specify time interval between samples (in min):\"))\n",
    "y=numpy.size(df[load])\n",
    "i=0\n",
    "I_u=[]\n",
    "theta_i=[]\n",
    "theta_u=[]\n",
    "tau=[]\n",
    "hot_spot_temp=[]\n",
    "age_rate=[]\n",
    "k=[]\n",
    "amb_t=[]\n",
    "I_l1=[]\n",
    "d_time=d_time/60\n",
    "while y!=i:\n",
    "    amb_t.append(df.iloc[i]['T Inside'])\n",
    "    I_l1.append(df.iloc[i][load]/I_l)\n",
    "    if i==0:\n",
    "        theta_i.append(0)\n",
    "        theta_u.append(z*x.avg_wnd*pow(I_l1[i], q))\n",
    "        tau.append('')\n",
    "        hot_spot_temp.append(theta_u[i])\n",
    "        age_rate.append(ageing_rate(x, hot_spot_temp[i], amb_t[i]))\n",
    "        I_u.append(I_l1[i])\n",
    "        k.append(1)\n",
    "        i=i+1\n",
    "    else:\n",
    "        I_i=I_l1[i-1]\n",
    "        I_u=I_l1[i]\n",
    "        if I_u==I_i:\n",
    "            theta_u.append(theta_u[i-1])\n",
    "            j=1\n",
    "            while I_u==I_l1[i-j]:\n",
    "                j=j+1\n",
    "            I_i=I_l1[i-j]\n",
    "            theta_i.append(z*x.avg_wnd*pow(float(I_i), q))\n",
    "            tau.append(tau_r*((theta_u[i]/theta_r)-(theta_i[i]/theta_r))/(pow(theta_u[i]/theta_r, z)-pow(theta_i[i]/theta_r, z)))\n",
    "            hot_spot_temp.append(delta_theta_u(theta_i[i], theta_u[i], tau[i], j*d_time))\n",
    "            age_rate.append(ageing_rate(x, hot_spot_temp[i], amb_t[i]))\n",
    "            if(i==y-1):\n",
    "                k.append(1)\n",
    "            elif(i%2==0):\n",
    "                k.append(2)\n",
    "            else:\n",
    "                k.append(4)\n",
    "            i=i+1\n",
    "            continue\n",
    "        else:\n",
    "\n",
    "            theta_i.append(z*x.avg_wnd*pow(float(I_i), q))\n",
    "            theta_u.append(z*x.avg_wnd*pow(float(I_u), q))\n",
    "            theta_r=z*x.avg_wnd\n",
    "            tau.append(tau_r*((theta_u[i]/theta_r)-(theta_i[i]/theta_r))/(pow(theta_u[i]/theta_r, z)-pow(theta_i[i]/theta_r, z)))\n",
    "\n",
    "\n",
    "            t_i=df.iloc[i-1]['Time']\n",
    "            t_f=df.iloc[i]['Time']\n",
    "            #d_time=abs(t_f.hour+t_f.minute/60+t_f.second/3600-(t_i.hour+t_i.minute/60+t_i.second/3600))\n",
    "            \n",
    "            hot_spot_temp.append(delta_theta_u(theta_i[i], theta_u[i], tau[i], d_time))\n",
    "            age_rate.append(ageing_rate(x, hot_spot_temp[i], amb_t[i]))\n",
    "            if(i==y-1):\n",
    "                k.append(1)\n",
    "            elif(i%2==0):\n",
    "                k.append(2)\n",
    "            else:\n",
    "                k.append(4)\n",
    "            i=i+1\n"
   ]
  },
  {
   "cell_type": "code",
   "execution_count": 34,
   "metadata": {},
   "outputs": [],
   "source": [
    "#Interface\n",
    "wb=Workbook()\n",
    "sheet1=wb.add_sheet('sheet1')\n",
    "sheet1.write(0, 0, 'Time') \n",
    "sheet1.write(0, 1, 'Loading') \n",
    "sheet1.write(0, 2, 'Ultimate Hot-Spot temperature rise') \n",
    "sheet1.write(0, 3, 'Time constant') \n",
    "sheet1.write(0, 4, 'Hot-spot temperature rise')\n",
    "sheet1.write(0, 5, 'Ageing rate')\n",
    "sheet1.write(0, 6, 'Life consumption')\n",
    "sheet1.write(0, 7, 'K')\n",
    "sheet1.write(0, 8, 'Kxfactor')\n",
    "sheet1.write(0, 9, 'Maximum permissible load')\n",
    "j=1\n",
    "sum=0\n",
    "for i in range(0, y):\n",
    "\t#print(i, theta_u[i], tau[i], hot_spot_temp[i], age_rate[i])\n",
    "\tsheet1.write(j,0,i)\n",
    "\tsheet1.write(j,1,I_l1[i])\n",
    "\tsheet1.write(j,2,theta_u[i])\n",
    "\tsheet1.write(j,3,tau[i])\n",
    "\tsheet1.write(j,4,hot_spot_temp[i])\n",
    "\tsheet1.write(j,5,age_rate[i])\n",
    "\tsheet1.write(j,6,d_time*age_rate[i])\n",
    "\tsheet1.write(j,7,k[i])\n",
    "\tsheet1.write(j,8,k[i]*d_time*age_rate[i])\n",
    "\tsheet1.write(j,9,pow((x.hot_spot-amb_t[i])/(z*x.avg_wnd),1/q))\n",
    "\tsum=sum+k[i]*age_rate[i]*d_time\n",
    "\tj=j+1\n",
    "\n",
    "wb.save('Results.xls')"
   ]
  },
  {
   "cell_type": "code",
   "execution_count": 35,
   "metadata": {},
   "outputs": [
    {
     "name": "stdout",
     "output_type": "stream",
     "text": [
      "      Time   Loading  Ultimate Hot-Spot temperature rise  Time constant  \\\n",
      "0        0  0.538146                           37.105662            NaN   \n",
      "1        1  0.571284                           40.828488       0.506310   \n",
      "2        2  0.558936                           39.425693       0.502579   \n",
      "3        3  0.548856                           38.294241       0.506626   \n",
      "4        4  0.557550                           39.269386       0.506880   \n",
      "...    ...       ...                                 ...            ...   \n",
      "2293  2293  0.659106                           51.324937       0.469505   \n",
      "2294  2294  0.655326                           50.854787       0.473126   \n",
      "2295  2295  0.626724                           47.350233       0.477861   \n",
      "2296  2296  0.616014                           46.062227       0.483859   \n",
      "2297  2297  0.629622                           47.701038       0.483408   \n",
      "\n",
      "      Hot-spot temperature rise  Ageing rate  Life consumption  K  Kxfactor  \\\n",
      "0                     37.105662     0.000019          0.000003  1  0.000003   \n",
      "1                     38.149862     0.000023          0.000004  4  0.000015   \n",
      "2                     40.432561     0.000034          0.000006  2  0.000011   \n",
      "3                     39.108504     0.000027          0.000004  4  0.000018   \n",
      "4                     38.567496     0.000024          0.000004  2  0.000008   \n",
      "...                         ...          ...               ... ..       ...   \n",
      "2293                  53.236855     0.000183          0.000031  4  0.000122   \n",
      "2294                  51.185346     0.000130          0.000022  2  0.000043   \n",
      "2295                  49.822873     0.000103          0.000017  4  0.000068   \n",
      "2296                  46.974918     0.000063          0.000011  2  0.000021   \n",
      "2297                  46.540137     0.000058          0.000010  1  0.000010   \n",
      "\n",
      "      Maximum permissible load  \n",
      "0                     1.277385  \n",
      "1                     1.277439  \n",
      "2                     1.277547  \n",
      "3                     1.277709  \n",
      "4                     1.277871  \n",
      "...                        ...  \n",
      "2293                  1.292120  \n",
      "2294                  1.292441  \n",
      "2295                  1.292816  \n",
      "2296                  1.293138  \n",
      "2297                  1.293566  \n",
      "\n",
      "[2298 rows x 10 columns]\n"
     ]
    }
   ],
   "source": [
    "results=pandas.read_excel('Results.xls', sheet_name='sheet1')\n",
    "print(results)"
   ]
  },
  {
   "cell_type": "code",
   "execution_count": 36,
   "metadata": {},
   "outputs": [
    {
     "name": "stdout",
     "output_type": "stream",
     "text": [
      "Lifetime consumed:158.75641857 hours\n",
      "Remained life:179841.24358143 hours\n"
     ]
    }
   ],
   "source": [
    "print(\"Lifetime consumed:\"+str(round(sum*2/6, 8))+\" hours\")\n",
    "print(\"Remained life:\"+str(180000-round(sum*2/6, 8))+\" hours\")"
   ]
  },
  {
   "cell_type": "code",
   "execution_count": 37,
   "metadata": {},
   "outputs": [],
   "source": [
    "#a load and a temperature influence on trasformer's aging rate\n",
    "graph=pandas.read_excel('Results.xls', sheet_name='sheet1', usecols=['Time', 'Loading', 'Hot-spot temperature rise', 'Ageing rate'])"
   ]
  },
  {
   "cell_type": "code",
   "execution_count": 38,
   "metadata": {},
   "outputs": [],
   "source": [
    "xyz=graph['Time']*10/60\n",
    "plt.rcParams[\"figure.figsize\"] = [10, 2]"
   ]
  },
  {
   "cell_type": "code",
   "execution_count": 39,
   "metadata": {},
   "outputs": [
    {
     "data": {
      "image/png": "[encoded data removed]",
      "text/plain": [
       "<Figure size 720x144 with 1 Axes>"
      ]
     },
     "metadata": {
      "needs_background": "light"
     },
     "output_type": "display_data"
    }
   ],
   "source": [
    "plt.plot(xyz, amb_t)\n",
    "plt.xlabel('(b)') \n",
    "# naming the y axis \n",
    "plt.ylabel('Amb. temperature (C)')\n",
    "#plt.scatter(xyz, graph['Loading'],color=\"blue\")\n",
    "plt.grid(color='r', linestyle='--', linewidth=0.2)\n",
    "\n"
   ]
  },
  {
   "cell_type": "code",
   "execution_count": 40,
   "metadata": {},
   "outputs": [
    {
     "data": {
      "image/png": "[encoded data removed]",
      "text/plain": [
       "<Figure size 720x144 with 1 Axes>"
      ]
     },
     "metadata": {
      "needs_background": "light"
     },
     "output_type": "display_data"
    }
   ],
   "source": [
    "plt.plot(xyz, graph['Loading'])\n",
    "plt.xlabel('(a)') \n",
    "# naming the y axis \n",
    "plt.ylabel('loading p.u.')\n",
    "#plt.scatter(xyz, graph['Loading'],color=\"blue\")\n",
    "plt.grid(color='r', linestyle='--', linewidth=0.2)"
   ]
  },
  {
   "cell_type": "code",
   "execution_count": 41,
   "metadata": {},
   "outputs": [
    {
     "data": {
      "image/png": "[encoded data removed]",
      "text/plain": [
       "<Figure size 720x144 with 1 Axes>"
      ]
     },
     "metadata": {
      "needs_background": "light"
     },
     "output_type": "display_data"
    }
   ],
   "source": [
    "plt.plot(xyz, graph['Ageing rate'])\n",
    "plt.xlabel('Time (h)\\n(c)') \n",
    "# naming the y axis \n",
    "plt.ylabel('Ageing rate (h/h)')\n",
    "#plt.scatter(xyz, graph['Loading'],color=\"blue\")\n",
    "plt.grid(color='r', linestyle='--', linewidth=0.2)"
   ]
  },
  {
   "cell_type": "code",
   "execution_count": 42,
   "metadata": {},
   "outputs": [
    {
     "data": {
      "text/plain": [
       "'C:\\\\Users\\\\456'"
      ]
     },
     "execution_count": 42,
     "metadata": {},
     "output_type": "execute_result"
    }
   ],
   "source": [
    "pwd"
   ]
  },
  {
   "cell_type": "code",
   "execution_count": null,
   "metadata": {},
   "outputs": [],
   "source": []
  }
 ],
 "metadata": {
  "kernelspec": {
   "display_name": "Python 3",
   "language": "python",
   "name": "python3"
  },
  "language_info": {
   "codemirror_mode": {
    "name": "ipython",
    "version": 3
   },
   "file_extension": ".py",
   "mimetype": "text/x-python",
   "name": "python",
   "nbconvert_exporter": "python",
   "pygments_lexer": "ipython3",
   "version": "3.7.4"
  }
 },
 "nbformat": 4,
 "nbformat_minor": 2
}
